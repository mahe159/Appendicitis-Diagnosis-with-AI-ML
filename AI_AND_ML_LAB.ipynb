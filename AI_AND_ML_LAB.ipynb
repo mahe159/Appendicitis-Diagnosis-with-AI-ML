{
  "cells": [
    {
      "cell_type": "markdown",
      "metadata": {
        "id": "view-in-github",
        "colab_type": "text"
      },
      "source": [
        "<a href=\"https://colab.research.google.com/github/mahe159/Appendicitis-Diagnosis-with-AI-ML/blob/main/AI_AND_ML_LAB.ipynb\" target=\"_parent\"><img src=\"https://colab.research.google.com/assets/colab-badge.svg\" alt=\"Open In Colab\"/></a>"
      ]
    },
    {
      "cell_type": "markdown",
      "metadata": {
        "id": "7jruAqxis5uJ"
      },
      "source": [
        "# Libraries"
      ]
    },
    {
      "cell_type": "code",
      "execution_count": null,
      "metadata": {
        "id": "agiRj1_xs5uL"
      },
      "outputs": [],
      "source": [
        "import time\n",
        "import pandas as pd\n",
        "import joblib\n",
        "import os\n",
        "# remove verison errors\n",
        "import warnings\n",
        "warnings.filterwarnings('ignore')"
      ]
    },
    {
      "cell_type": "markdown",
      "metadata": {
        "id": "QOk7Fu_Es5uM"
      },
      "source": [
        "# Pipeline"
      ]
    },
    {
      "cell_type": "code",
      "execution_count": null,
      "metadata": {
        "id": "iy_DfHW_s5uN",
        "outputId": "9e91d3dd-cab0-4009-9846-0fd6941280b4",
        "colab": {
          "base_uri": "https://localhost:8080/",
          "height": 349
        }
      },
      "outputs": [
        {
          "output_type": "error",
          "ename": "ModuleNotFoundError",
          "evalue": "No module named 'configuration'",
          "traceback": [
            "\u001b[0;31m---------------------------------------------------------------------------\u001b[0m",
            "\u001b[0;31mModuleNotFoundError\u001b[0m                       Traceback (most recent call last)",
            "\u001b[0;32m<ipython-input-2-f2371165bcf4>\u001b[0m in \u001b[0;36m<cell line: 3>\u001b[0;34m()\u001b[0m\n\u001b[1;32m      1\u001b[0m \u001b[0mget_ipython\u001b[0m\u001b[0;34m(\u001b[0m\u001b[0;34m)\u001b[0m\u001b[0;34m.\u001b[0m\u001b[0mrun_line_magic\u001b[0m\u001b[0;34m(\u001b[0m\u001b[0;34m'load_ext'\u001b[0m\u001b[0;34m,\u001b[0m \u001b[0;34m'autoreload'\u001b[0m\u001b[0;34m)\u001b[0m\u001b[0;34m\u001b[0m\u001b[0;34m\u001b[0m\u001b[0m\n\u001b[1;32m      2\u001b[0m \u001b[0mget_ipython\u001b[0m\u001b[0;34m(\u001b[0m\u001b[0;34m)\u001b[0m\u001b[0;34m.\u001b[0m\u001b[0mrun_line_magic\u001b[0m\u001b[0;34m(\u001b[0m\u001b[0;34m'autoreload'\u001b[0m\u001b[0;34m,\u001b[0m \u001b[0;34m'2'\u001b[0m\u001b[0;34m)\u001b[0m\u001b[0;34m\u001b[0m\u001b[0;34m\u001b[0m\u001b[0m\n\u001b[0;32m----> 3\u001b[0;31m \u001b[0;32mfrom\u001b[0m \u001b[0mconfiguration\u001b[0m\u001b[0;34m.\u001b[0m\u001b[0mPipeline\u001b[0m \u001b[0;32mimport\u001b[0m \u001b[0mPipeline\u001b[0m\u001b[0;34m\u001b[0m\u001b[0;34m\u001b[0m\u001b[0m\n\u001b[0m",
            "\u001b[0;31mModuleNotFoundError\u001b[0m: No module named 'configuration'",
            "",
            "\u001b[0;31m---------------------------------------------------------------------------\u001b[0;32m\nNOTE: If your import is failing due to a missing package, you can\nmanually install dependencies using either !pip or !apt.\n\nTo view examples of installing some common dependencies, click the\n\"Open Examples\" button below.\n\u001b[0;31m---------------------------------------------------------------------------\u001b[0m\n"
          ],
          "errorDetails": {
            "actions": [
              {
                "action": "open_url",
                "actionText": "Open Examples",
                "url": "/notebooks/snippets/importing_libraries.ipynb"
              }
            ]
          }
        }
      ],
      "source": [
        "%load_ext autoreload\n",
        "%autoreload 2\n",
        "from configuration.Pipeline import Pipeline"
      ]
    },
    {
      "cell_type": "code",
      "execution_count": null,
      "metadata": {
        "id": "Ra39pdS0s5uQ"
      },
      "outputs": [],
      "source": [
        "selected_cols = ['age',\n",
        "                'sex',\n",
        "                'height',\n",
        "                'body_weight',\n",
        "                'body_temperature',\n",
        "                'alcohol',\n",
        "                'smoking',\n",
        "                'Dysuria',\n",
        "                'Anorexia',\n",
        "                'Nausea/vomiting',\n",
        "                'Rebound tenderness',\n",
        "                'Peritonitis/abdominal guarding',\n",
        "                'Tenderness in right lower quadrant',\n",
        "                'Cough tenderness',\n",
        "                'WBC',\n",
        "                'RBC',\n",
        "                'Leukocytes',\n",
        "                'Alvarado Score (AS)',\n",
        "                'Pediatric appendicitis score (PAS)']\n"
      ]
    },
    {
      "cell_type": "code",
      "execution_count": null,
      "metadata": {
        "id": "vwghpKHps5uR"
      },
      "outputs": [],
      "source": [
        "import matplotlib.pyplot as plt\n",
        "import seaborn as sns\n",
        "\n",
        "\n",
        "def create_plot(as_score, pas_score):\n",
        "    knn_df_imputed = pd.read_csv(\n",
        "        'repository/data_prep/KNN_Appendicitis.csv')\n",
        "\n",
        "    fig, axes = plt.subplots(nrows=1, ncols=2, figsize=(15, 9))\n",
        "\n",
        "    # Plot the first column\n",
        "    ax1 = sns.kdeplot(\n",
        "        data=knn_df_imputed, x=\"Alvarado Score (AS)\", hue=\"Target\",\n",
        "        fill=True, common_norm=False,\n",
        "        alpha=.5, linewidth=0,\n",
        "        ax=axes[0]  # Specify the first subplot\n",
        "    )\n",
        "    ax1.set_title(r'$\\bf{' + f'Alvarado Score (AS) = {as_score}' + '}$' +\n",
        "                  ' for Appendicitis Population')\n",
        "    ax1.legend(['Disease', 'Non-disease'])\n",
        "    ax1.set(xlabel='Alvarado Score (AS)')\n",
        "    ax1.axvline(x=as_score, color='red', linestyle='--')\n",
        "\n",
        "    # Plot the second column\n",
        "    ax2 = sns.kdeplot(\n",
        "        data=knn_df_imputed, x=\"Alvarado Score (AS)\", hue=\"Target\",\n",
        "        fill=True, common_norm=False,\n",
        "        alpha=.5, linewidth=0,\n",
        "        ax=axes[1]  # Specify the second subplot\n",
        "    )\n",
        "    ax2.set_title(r'$\\bf{' + f'Pediatric appendicitis score(PAS)  = {pas_score}' + '}$' +\n",
        "                  ' for Appendicitis Population')\n",
        "    ax2.legend(['Disease', 'Non-disease'])\n",
        "    ax2.set(xlabel='Pediatric appendicitis score(PAS)')\n",
        "\n",
        "    # Add the vertical line to the second subplot\n",
        "    ax2.axvline(x=pas_score, color='red', linestyle='--')\n",
        "    image_path = \"seaborn_plot.png\"\n",
        "    plt.savefig(image_path, format=\"png\")\n",
        "\n",
        "    return image_path"
      ]
    },
    {
      "cell_type": "markdown",
      "metadata": {
        "id": "YeZQoezKs5uR"
      },
      "source": [
        "# Prediction Function"
      ]
    },
    {
      "cell_type": "code",
      "execution_count": null,
      "metadata": {
        "id": "d9VQU7Pds5uS"
      },
      "outputs": [],
      "source": [
        "def predict_disease(age, sex, height, body_weight, body_temperature, alcohol, smoking,\n",
        "                    dysuria, anorexia, nausea_vomit, rebound, peritonitis, rlq, cough,\n",
        "                    wbc, rbc, leukocytes):\n",
        "\n",
        "    input_df = pd.DataFrame({'age': int(age),\n",
        "                             'sex': sex,\n",
        "                             'height': float(height),\n",
        "                             'body_weight': float(body_weight),\n",
        "                             'body_temperature': float(body_temperature),\n",
        "                             'alcohol': alcohol,\n",
        "                             'smoking': smoking,\n",
        "                             'Dysuria': dysuria,\n",
        "                             'Anorexia': anorexia,\n",
        "                             'Nausea/vomiting': nausea_vomit,\n",
        "                             'Rebound tenderness': rebound,\n",
        "                             'Peritonitis/abdominal guarding': peritonitis,\n",
        "                             'Tenderness in right lower quadrant': rlq,\n",
        "                             'Cough tenderness': cough,\n",
        "                             'WBC': float(wbc),\n",
        "                             'RBC': float(rbc),\n",
        "                             'Leukocytes': float(leukocytes),\n",
        "                             'Alvarado Score (AS)': None,\n",
        "                             'Pediatric appendicitis score (PAS)': None,\n",
        "                             }, index=[0]).applymap(lambda x: x.lower() if isinstance(x, str) else x)\n",
        "    # Data Preprocessing+\n",
        "    pipe = Pipeline()\n",
        "    df_prep = pipe.preprocessing(input_df)[selected_cols]\n",
        "    # Load the trained model\n",
        "    path = 'model/feature_importance/grid_search/grid_search_Logistic_Regression.pkl'\n",
        "    model = joblib.load(path)\n",
        "    # Make prediction\n",
        "    pred = model.best_estimator_.predict_proba(df_prep)[0]\n",
        "    binary_dict = {'male': 0, 'female': 1, 'no': 0, 'yes': 1}\n",
        "    categ_dict = {'Negative': 1,\n",
        "                  'Trace': 2, 'Positive': 2,\n",
        "                  'Positive +1': 3, 'Positive +2': 4,\n",
        "                  'Positive +3': 5, 'Positive +4': 6,\n",
        "                  'Positive +5': 7}\n",
        "    # Re-encoding\n",
        "    df_prep['sex'] = df_prep['sex'].map({0: 'male', 1: 'female'})\n",
        "    df_prep['alcohol'] = df_prep['alcohol'].map({0: 'no', 1: 'yes'})\n",
        "    df_prep['smoking'] = df_prep['smoking'].map({0: 'no', 1: 'yes'})\n",
        "    df_prep['Dysuria'] = df_prep['Dysuria'].map({1: 'no', 2: 'yes'})\n",
        "    df_prep['Anorexia'] = df_prep['Anorexia'].map({1: 'no', 2: 'yes'})\n",
        "    df_prep['Nausea/vomiting'] = df_prep['Nausea/vomiting'].map(\n",
        "        {1: 'no', 2: 'yes'})\n",
        "    df_prep['Rebound tenderness'] = df_prep['Rebound tenderness'].map({\n",
        "                                                                      1: 'no', 2: 'yes'})\n",
        "    df_prep['Tenderness in right lower quadrant'] = df_prep['Tenderness in right lower quadrant'].map({\n",
        "                                                                      1: 'no', 2: 'yes'})\n",
        "    df_prep['Peritonitis/abdominal guarding'] = df_prep['Peritonitis/abdominal guarding'].map(\n",
        "        {1: 'No', 2: 'Generalized', 3: 'Localized'})\n",
        "    df_prep['Cough tenderness'] = df_prep['Cough tenderness'].map(\n",
        "        {1: 'no', 2: 'yes'})\n",
        "    output_1 = {'No Disease': pred[0].round(3), 'Disease': pred[1].round(3)}\n",
        "    output_2 = df_prep\n",
        "    as_score = int(df_prep['Alvarado Score (AS)'])\n",
        "    pas_score = int(df_prep['Pediatric appendicitis score (PAS)'])\n",
        "    output_3 = create_plot(as_score, pas_score)\n",
        "    return output_1, output_2, output_3\n"
      ]
    },
    {
      "cell_type": "markdown",
      "metadata": {
        "id": "cgL6gdeTs5uS"
      },
      "source": [
        "# Deployment"
      ]
    },
    {
      "cell_type": "markdown",
      "metadata": {
        "id": "bgy-KqVMs5uS"
      },
      "source": [
        "## 1. FastAPI\n",
        "**File**: 'mlfastapi.py'\n",
        "\n",
        "![image.png](attachment:image.png)\n",
        "![image-2.png](attachment:image-2.png)"
      ]
    },
    {
      "cell_type": "code",
      "execution_count": null,
      "metadata": {
        "id": "BlD4EUC0s5uT",
        "outputId": "9aa2fede-3487-4205-d661-d1c917e64c1c"
      },
      "outputs": [
        {
          "name": "stdout",
          "output_type": "stream",
          "text": [
            "Requirement already satisfied: fastapi in c:\\users\\windows10\\appdata\\local\\programs\\python\\python310\\lib\\site-packages (0.95.1)\n",
            "Requirement already satisfied: pydantic!=1.7,!=1.7.1,!=1.7.2,!=1.7.3,!=1.8,!=1.8.1,<2.0.0,>=1.6.2 in c:\\users\\windows10\\appdata\\local\\programs\\python\\python310\\lib\\site-packages (from fastapi) (1.10.4)\n",
            "Requirement already satisfied: starlette<0.27.0,>=0.26.1 in c:\\users\\windows10\\appdata\\local\\programs\\python\\python310\\lib\\site-packages (from fastapi) (0.26.1)\n",
            "Requirement already satisfied: typing-extensions>=4.2.0 in c:\\users\\windows10\\appdata\\local\\programs\\python\\python310\\lib\\site-packages (from pydantic!=1.7,!=1.7.1,!=1.7.2,!=1.7.3,!=1.8,!=1.8.1,<2.0.0,>=1.6.2->fastapi) (4.4.0)\n",
            "Requirement already satisfied: anyio<5,>=3.4.0 in c:\\users\\windows10\\appdata\\local\\programs\\python\\python310\\lib\\site-packages (from starlette<0.27.0,>=0.26.1->fastapi) (3.6.2)\n",
            "Requirement already satisfied: idna>=2.8 in c:\\users\\windows10\\appdata\\local\\programs\\python\\python310\\lib\\site-packages (from anyio<5,>=3.4.0->starlette<0.27.0,>=0.26.1->fastapi) (3.4)\n",
            "Requirement already satisfied: sniffio>=1.1 in c:\\users\\windows10\\appdata\\local\\programs\\python\\python310\\lib\\site-packages (from anyio<5,>=3.4.0->starlette<0.27.0,>=0.26.1->fastapi) (1.3.0)\n",
            "Note: you may need to restart the kernel to use updated packages.\n"
          ]
        },
        {
          "name": "stderr",
          "output_type": "stream",
          "text": [
            "\n",
            "[notice] A new release of pip is available: 23.0.1 -> 23.1.2\n",
            "[notice] To update, run: python.exe -m pip install --upgrade pip\n"
          ]
        }
      ],
      "source": [
        "pip install fastapi"
      ]
    },
    {
      "cell_type": "code",
      "execution_count": null,
      "metadata": {
        "id": "MYgFsiYIs5uT",
        "outputId": "00a9909f-64a8-4ed7-f59d-5ea5b0d9cc11"
      },
      "outputs": [
        {
          "name": "stdout",
          "output_type": "stream",
          "text": [
            "Requirement already satisfied: uvicorn[standard] in c:\\users\\windows10\\appdata\\local\\programs\\python\\python310\\lib\\site-packages (0.22.0)\n",
            "Requirement already satisfied: h11>=0.8 in c:\\users\\windows10\\appdata\\local\\programs\\python\\python310\\lib\\site-packages (from uvicorn[standard]) (0.14.0)\n",
            "Requirement already satisfied: click>=7.0 in c:\\users\\windows10\\appdata\\local\\programs\\python\\python310\\lib\\site-packages (from uvicorn[standard]) (8.1.3)\n",
            "Requirement already satisfied: colorama>=0.4 in c:\\users\\windows10\\appdata\\local\\programs\\python\\python310\\lib\\site-packages (from uvicorn[standard]) (0.4.5)\n",
            "Requirement already satisfied: websockets>=10.4 in c:\\users\\windows10\\appdata\\local\\programs\\python\\python310\\lib\\site-packages (from uvicorn[standard]) (11.0.2)\n",
            "Requirement already satisfied: watchfiles>=0.13 in c:\\users\\windows10\\appdata\\local\\programs\\python\\python310\\lib\\site-packages (from uvicorn[standard]) (0.19.0)\n",
            "Requirement already satisfied: python-dotenv>=0.13 in c:\\users\\windows10\\appdata\\local\\programs\\python\\python310\\lib\\site-packages (from uvicorn[standard]) (1.0.0)\n",
            "Requirement already satisfied: pyyaml>=5.1 in c:\\users\\windows10\\appdata\\local\\programs\\python\\python310\\lib\\site-packages (from uvicorn[standard]) (6.0)\n",
            "Requirement already satisfied: httptools>=0.5.0 in c:\\users\\windows10\\appdata\\local\\programs\\python\\python310\\lib\\site-packages (from uvicorn[standard]) (0.5.0)\n",
            "Requirement already satisfied: anyio>=3.0.0 in c:\\users\\windows10\\appdata\\local\\programs\\python\\python310\\lib\\site-packages (from watchfiles>=0.13->uvicorn[standard]) (3.6.2)\n",
            "Requirement already satisfied: idna>=2.8 in c:\\users\\windows10\\appdata\\local\\programs\\python\\python310\\lib\\site-packages (from anyio>=3.0.0->watchfiles>=0.13->uvicorn[standard]) (3.4)\n",
            "Requirement already satisfied: sniffio>=1.1 in c:\\users\\windows10\\appdata\\local\\programs\\python\\python310\\lib\\site-packages (from anyio>=3.0.0->watchfiles>=0.13->uvicorn[standard]) (1.3.0)\n",
            "Note: you may need to restart the kernel to use updated packages.\n"
          ]
        },
        {
          "name": "stderr",
          "output_type": "stream",
          "text": [
            "\n",
            "[notice] A new release of pip is available: 23.0.1 -> 23.1.2\n",
            "[notice] To update, run: python.exe -m pip install --upgrade pip\n"
          ]
        }
      ],
      "source": [
        "pip install \"uvicorn[standard]\""
      ]
    },
    {
      "cell_type": "markdown",
      "metadata": {
        "id": "OHeiEhZLs5uT"
      },
      "source": [
        "## 2. Gradio\n",
        "![image.png](attachment:image.png)"
      ]
    },
    {
      "cell_type": "code",
      "execution_count": null,
      "metadata": {
        "id": "rABgwVaFs5uT"
      },
      "outputs": [],
      "source": [
        "# !pip install gradio\n",
        "import pandas as pd\n",
        "import joblib\n",
        "import seaborn as sns\n",
        "import io\n",
        "import base64\n",
        "import gradio as gr"
      ]
    },
    {
      "cell_type": "code",
      "execution_count": null,
      "metadata": {
        "id": "GE9I1067s5uU"
      },
      "outputs": [],
      "source": [
        "# inputs\n",
        "age = gr.inputs.Slider(minimum=0, maximum=100, step=1, default=18, label='Age')\n",
        "sex = gr.inputs.Radio(['Male', 'Female'], label='Sex')\n",
        "height = gr.inputs.Slider(minimum=120, maximum=250,\n",
        "                          step=1, default=160, label='Height')\n",
        "body_weight = gr.inputs.Slider(minimum=40, maximum=150,\n",
        "                          step=1, default=50, label='Body  Weight')\n",
        "body_temperature = gr.inputs.Slider(minimum=35, maximum=42,\n",
        "                          step=0.1, default=36.5, label='Body Temperature')\n",
        "\n",
        "alcohol = gr.inputs.Radio(['No', 'Yes'], label='Alcohol')\n",
        "\n",
        "smoking = gr.inputs.Radio(['No', 'Yes'], label='Smoking')\n",
        "dysuria = gr.inputs.Radio(['No', 'Yes'], label='Dysuria อาการปัสสาวะแสบขัด ปวดตอนปัสสาวะ?')\n",
        "anorexia = gr.inputs.Radio(\n",
        "    ['No', 'Yes'], label='Anorexia อาการเบื่ออาหาร?')\n",
        "nausea_vomit = gr.inputs.Radio(\n",
        "    ['No', 'Yes'], label='Nausea/vomiting คลื่นไส้ / อาเจียน?')\n",
        "rebound = gr.inputs.Radio(\n",
        "    ['No', 'Yes'], label='Rebound tenderness ความปวดของการกดหน้าท้อง')\n",
        "peritonitis = gr.inputs.Radio(\n",
        "    ['No', 'Generalized', 'Localized'], label='Peritonitis/abdominal guarding ตำแหน่งความปวดท้อง')\n",
        "rlq = gr.inputs.Radio(\n",
        "    ['No', 'Yes'], label='Tenderness in right lower quadrant (RLQ) ความปวดหน้าท้องขวาล่าง')\n",
        "cough = gr.inputs.Radio(\n",
        "    ['No', 'Yes'], label='Cough tenderness อาการไอ?')\n",
        "\n",
        "wbc = gr.inputs.Slider(minimum=1, maximum=70, step=0.1,\n",
        "                       default=5.0, label='WBC (4.00 - 10.00) µL. (microlitre)')\n",
        "rbc = gr.inputs.Slider(minimum=1, maximum=70, step=0.1,\n",
        "                       default=5.0, label='RBC (4.00 - 6.00) µL. (microlitre)')\n",
        "leukocytes = gr.inputs.Slider(minimum=1, maximum=150, step=0.1,\n",
        "                              default=25.0, label='Leukocytes (25.00 - 40.00)%')"
      ]
    },
    {
      "cell_type": "code",
      "execution_count": null,
      "metadata": {
        "id": "EyPvVP8Ms5uU"
      },
      "outputs": [],
      "source": [
        "inputs = [age, sex, height, body_weight, body_temperature, alcohol, smoking, dysuria,\n",
        "          anorexia, nausea_vomit, rebound, peritonitis, rlq, cough, wbc, rbc, leukocytes]\n",
        "outputs = [gr.outputs.Label(label=\"Probability of disease\", num_top_classes=2),\n",
        "           gr.outputs.Dataframe(label=\"Estimated\", type='pandas'),\n",
        "           gr.outputs.Image(label=\"Seaborn Plot\",type='pil')\n",
        "           ]\n",
        "title = 'Appendicitis Prediction'\n",
        "description= 'Alvarado and Pediatric Appendicitis scores are automatically calculated from your condtions.'\n",
        "theme = 'peach'"
      ]
    },
    {
      "cell_type": "code",
      "execution_count": 1,
      "metadata": {
        "id": "gYeEj-6Xs5uU",
        "outputId": "c4c21a23-2765-4ecb-dd04-59b55fdc8088",
        "colab": {
          "base_uri": "https://localhost:8080/",
          "height": 211
        }
      },
      "outputs": [
        {
          "output_type": "error",
          "ename": "NameError",
          "evalue": "name 'gr' is not defined",
          "traceback": [
            "\u001b[0;31m---------------------------------------------------------------------------\u001b[0m",
            "\u001b[0;31mNameError\u001b[0m                                 Traceback (most recent call last)",
            "\u001b[0;32m/tmp/ipython-input-797090534.py\u001b[0m in \u001b[0;36m<cell line: 0>\u001b[0;34m()\u001b[0m\n\u001b[0;32m----> 1\u001b[0;31m gr.Interface(fn=predict_disease,\n\u001b[0m\u001b[1;32m      2\u001b[0m              \u001b[0minputs\u001b[0m\u001b[0;34m=\u001b[0m\u001b[0minputs\u001b[0m\u001b[0;34m,\u001b[0m\u001b[0;34m\u001b[0m\u001b[0;34m\u001b[0m\u001b[0m\n\u001b[1;32m      3\u001b[0m              \u001b[0moutputs\u001b[0m\u001b[0;34m=\u001b[0m\u001b[0moutputs\u001b[0m\u001b[0;34m,\u001b[0m\u001b[0;34m\u001b[0m\u001b[0;34m\u001b[0m\u001b[0m\n\u001b[1;32m      4\u001b[0m              \u001b[0mtitle\u001b[0m\u001b[0;34m=\u001b[0m\u001b[0mtitle\u001b[0m\u001b[0;34m,\u001b[0m\u001b[0;34m\u001b[0m\u001b[0;34m\u001b[0m\u001b[0m\n\u001b[1;32m      5\u001b[0m              \u001b[0mdescription\u001b[0m\u001b[0;34m=\u001b[0m\u001b[0mdescription\u001b[0m\u001b[0;34m,\u001b[0m\u001b[0;34m\u001b[0m\u001b[0;34m\u001b[0m\u001b[0m\n",
            "\u001b[0;31mNameError\u001b[0m: name 'gr' is not defined"
          ]
        }
      ],
      "source": [
        "gr.Interface(fn=predict_disease,\n",
        "             inputs=inputs,\n",
        "             outputs=outputs,\n",
        "             title=title,\n",
        "             description=description,\n",
        "             theme=theme,\n",
        "             share=True,\n",
        "             live=False).launch()"
      ]
    }
  ],
  "metadata": {
    "kernelspec": {
      "display_name": "Python 3",
      "language": "python",
      "name": "python3"
    },
    "language_info": {
      "codemirror_mode": {
        "name": "ipython",
        "version": 3
      },
      "file_extension": ".py",
      "mimetype": "text/x-python",
      "name": "python",
      "nbconvert_exporter": "python",
      "pygments_lexer": "ipython3",
      "version": "3.10.5"
    },
    "orig_nbformat": 4,
    "colab": {
      "provenance": [],
      "include_colab_link": true
    }
  },
  "nbformat": 4,
  "nbformat_minor": 0
}